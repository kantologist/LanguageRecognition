{
 "cells": [
  {
   "cell_type": "code",
   "execution_count": 31,
   "metadata": {},
   "outputs": [],
   "source": [
    "import numpy as np\n",
    "from sklearn import preprocessing\n",
    "import pandas as pd\n",
    "import os\n",
    "from tqdm import tqdm\n",
    "import torch\n",
    "from matplotlib import pyplot as plt\n",
    "import time\n",
    "import os\n",
    "import torch.nn as nn\n",
    "import torch.nn.utils.rnn as rnn\n",
    "from torch.utils.data import Dataset, DataLoader, BatchSampler, RandomSampler\n",
    "\n",
    "%matplotlib inline"
   ]
  },
  {
   "cell_type": "code",
   "execution_count": 32,
   "metadata": {},
   "outputs": [
    {
     "data": {
      "text/plain": [
       "'cuda'"
      ]
     },
     "execution_count": 32,
     "metadata": {},
     "output_type": "execute_result"
    }
   ],
   "source": [
    "DEVICE = \"cuda\" if torch.cuda.is_available() else \"cpu\"\n",
    "DEVICE"
   ]
  },
  {
   "cell_type": "code",
   "execution_count": 33,
   "metadata": {},
   "outputs": [],
   "source": [
    "# labels = pd.read_csv(\"trainingData.csv\")\n",
    "# le = preprocessing.LabelEncoder()\n",
    "# le.fit(labels[\"Language\"])\n",
    "# labels[\"Language\"] = le.transform(labels[\"Language\"])\n",
    "# labels.head()"
   ]
  },
  {
   "cell_type": "code",
   "execution_count": 34,
   "metadata": {},
   "outputs": [],
   "source": [
    "# train_dirs = []\n",
    "# train_base_dir = \"Training data\"\n",
    "# for direc in os.listdir(\"Training data\"):\n",
    "#   train_dirs.append(direc)"
   ]
  },
  {
   "cell_type": "code",
   "execution_count": 35,
   "metadata": {},
   "outputs": [],
   "source": [
    "# train_labels = []\n",
    "# pbar = tqdm(total=66176)\n",
    "# for i, direc in enumerate(train_dirs):\n",
    "#     label = labels[labels[\"Sample Filename\"] == direc][\"Language\"].item()\n",
    "#     train_labels.append(label)\n",
    "#     pbar.update(1)\n",
    "# pbar.close()    \n",
    "# labels = np.array(train_labels)    "
   ]
  },
  {
   "cell_type": "code",
   "execution_count": 36,
   "metadata": {},
   "outputs": [],
   "source": [
    "# np.save(\"labels.npy\", labels)"
   ]
  },
  {
   "cell_type": "code",
   "execution_count": 37,
   "metadata": {},
   "outputs": [],
   "source": [
    "labels = np.load(\"labels.npy\")"
   ]
  },
  {
   "cell_type": "code",
   "execution_count": 38,
   "metadata": {},
   "outputs": [],
   "source": [
    "data = np.load(\"traindata.npy\")\n",
    "# np.random.shuffle(data)"
   ]
  },
  {
   "cell_type": "code",
   "execution_count": 39,
   "metadata": {},
   "outputs": [
    {
     "data": {
      "text/plain": [
       "175"
      ]
     },
     "execution_count": 39,
     "metadata": {},
     "output_type": "execute_result"
    }
   ],
   "source": [
    "data.shape\n",
    "max(labels)"
   ]
  },
  {
   "cell_type": "code",
   "execution_count": 40,
   "metadata": {},
   "outputs": [
    {
     "name": "stdout",
     "output_type": "stream",
     "text": [
      "46176\n"
     ]
    }
   ],
   "source": [
    "test_size = 20000\n",
    "train_size = data.shape[0] - test_size\n",
    "print(train_size)\n",
    "train = data[:train_size, :, :]\n",
    "train_label = labels[:train_size]\n",
    "test = data[train_size:, :, :]\n",
    "test_label = labels[train_size:]"
   ]
  },
  {
   "cell_type": "code",
   "execution_count": 41,
   "metadata": {},
   "outputs": [
    {
     "data": {
      "text/plain": [
       "104"
      ]
     },
     "execution_count": 41,
     "metadata": {},
     "output_type": "execute_result"
    }
   ],
   "source": [
    "train.shape\n",
    "train_label.shape\n",
    "train_label[0]"
   ]
  },
  {
   "cell_type": "code",
   "execution_count": 42,
   "metadata": {},
   "outputs": [
    {
     "data": {
      "text/plain": [
       "(20000,)"
      ]
     },
     "execution_count": 42,
     "metadata": {},
     "output_type": "execute_result"
    }
   ],
   "source": [
    "test.shape\n",
    "test_label.shape"
   ]
  },
  {
   "cell_type": "code",
   "execution_count": 43,
   "metadata": {},
   "outputs": [],
   "source": [
    "class TrainDataset(Dataset):\n",
    "  \n",
    "    def __init__(self, train, label):\n",
    "        self.train = train\n",
    "        self.label = label\n",
    "\n",
    "    def __len__(self):\n",
    "        return self.train.shape[0]\n",
    "\n",
    "    def __getitem__(self, idx):\n",
    "        train = torch.Tensor(self.train[idx])\n",
    "        train = train.transpose(0,1)\n",
    "#         train = train.to(DEVICE)\n",
    "        label = self.label[idx]\n",
    "#         label = torch.Tensor(label)\n",
    "#         label = label.to(DEVICE)\n",
    "        return(train, label)"
   ]
  },
  {
   "cell_type": "code",
   "execution_count": 44,
   "metadata": {},
   "outputs": [],
   "source": [
    "class TestDataset(Dataset):\n",
    "  \n",
    "  def __init__(self, test):\n",
    "    self.test = test\n",
    "  \n",
    "  def __len__(self):\n",
    "    return self.test.shape[0]\n",
    "  \n",
    "  def __getitem__(self, idx):\n",
    "    test = torch.Tensor(self.test[idx])\n",
    "    test = test.to(DEVICE)\n",
    "#     test = test.unsqueeze(0)\n",
    "    return test"
   ]
  },
  {
   "cell_type": "code",
   "execution_count": 45,
   "metadata": {},
   "outputs": [],
   "source": [
    "train_dataset = TrainDataset(train, train_label)\n",
    "test_dataset = TestDataset(test)\n",
    "train_batch_size = 100\n",
    "test_batch_size = 100\n",
    "train_loader = DataLoader(train_dataset,\n",
    "                        batch_sampler=BatchSampler(RandomSampler(train_dataset), train_batch_size, False))\n",
    "test_loader = DataLoader(test_dataset, batch_size=test_batch_size)"
   ]
  },
  {
   "cell_type": "code",
   "execution_count": 46,
   "metadata": {},
   "outputs": [],
   "source": [
    "# iter(train_loader).next()\n",
    "# train_dataset[0][0].shape"
   ]
  },
  {
   "cell_type": "code",
   "execution_count": 47,
   "metadata": {},
   "outputs": [],
   "source": [
    "class DetectionModel(nn.Module):\n",
    "    \n",
    "    def __init__(self,vocab_size,embed_size,hidden_size, nlayers):\n",
    "        super(DetectionModel,self).__init__()\n",
    "        self.vocab_size=vocab_size\n",
    "        self.embed_size = embed_size\n",
    "        self.hidden_size = hidden_size\n",
    "        self.nlayers=nlayers\n",
    "        self.rnn = nn.LSTM(input_size = embed_size,hidden_size=hidden_size,num_layers=nlayers, bidirectional=True) # Recurrent network\n",
    "        self.scoring = nn.Linear(hidden_size * 2,vocab_size) # Projection layer\n",
    "        \n",
    "    def forward(self, seq_batch):\n",
    "        batch_size = seq_batch.size(1)\n",
    "        embed = seq_batch #L x N x E\n",
    "        hidden = None\n",
    "        output_lstm,hidden = self.rnn(embed,hidden) #L x N x H\n",
    "        output_lstm_flatten = output_lstm.view(-1,self.hidden_size * 2) #(L*N) x H\n",
    "        output_flatten = self.scoring(output_lstm_flatten) #(L*N) x V\n",
    "        return output_flatten.view(-1,batch_size,self.vocab_size)"
   ]
  },
  {
   "cell_type": "code",
   "execution_count": 48,
   "metadata": {},
   "outputs": [],
   "source": [
    "def train_epoch(model, optimizer, train_loader):\n",
    "    criterion = nn.CrossEntropyLoss()\n",
    "    criterion = criterion.to(DEVICE)\n",
    "    batch_id=0\n",
    "    for inputs,targets in train_loader:\n",
    "        batch_loss = []\n",
    "        batch_id+=1\n",
    "        inputs = inputs.to(DEVICE)\n",
    "        targets = targets.to(DEVICE)\n",
    "        outputs = model(inputs) # 3D\n",
    "        outputs = outputs[:, -1, :] # pull out the last layer\n",
    "#         print(outputs.shape)\n",
    "        loss = criterion(outputs,targets) # Loss of the flattened outputs\n",
    "        optimizer.zero_grad()\n",
    "        loss.backward()\n",
    "        optimizer.step()\n",
    "        batch_loss.append(loss.item())\n",
    "        torch.cuda.empty_cache()\n",
    "        if batch_id % 20 == 0:\n",
    "            lpw = np.mean(batch_loss)\n",
    "            print(\"At batch\",batch_id)\n",
    "            print(\"Training loss :\",lpw)\n",
    "\n",
    "    return model\n",
    "    "
   ]
  },
  {
   "cell_type": "code",
   "execution_count": 49,
   "metadata": {},
   "outputs": [
    {
     "name": "stderr",
     "output_type": "stream",
     "text": [
      "/jet/var/python/lib/python3.6/site-packages/torch/backends/cudnn/__init__.py:89: UserWarning: PyTorch was compiled without cuDNN support. To use cuDNN, rebuild PyTorch making sure the library is visible to the build system.\n",
      "  \"PyTorch was compiled without cuDNN support. To use cuDNN, rebuild \"\n"
     ]
    }
   ],
   "source": [
    "langcount = 176\n",
    "model = DetectionModel(langcount,40,256,3)\n",
    "model = model.to(DEVICE)\n",
    "# optimizer = torch.optim.Adam(model.parameters(),lr=0.01, weight_decay=1e-6)\n",
    "optimizer = torch.optim.Adam(model.parameters(),lr=0.0001)"
   ]
  },
  {
   "cell_type": "code",
   "execution_count": null,
   "metadata": {},
   "outputs": [
    {
     "name": "stderr",
     "output_type": "stream",
     "text": [
      "/jet/var/python/lib/python3.6/site-packages/torch/backends/cudnn/__init__.py:89: UserWarning: PyTorch was compiled without cuDNN support. To use cuDNN, rebuild PyTorch making sure the library is visible to the build system.\n",
      "  \"PyTorch was compiled without cuDNN support. To use cuDNN, rebuild \"\n"
     ]
    },
    {
     "name": "stdout",
     "output_type": "stream",
     "text": [
      "At batch 20\n",
      "Training loss : 5.17752361298\n",
      "At batch 40\n",
      "Training loss : 5.15928649902\n",
      "At batch 60\n",
      "Training loss : 5.17980051041\n",
      "At batch 80\n",
      "Training loss : 5.18092632294\n"
     ]
    }
   ],
   "source": [
    "for i in range(50):\n",
    "    train_epoch(model, optimizer, train_loader)"
   ]
  },
  {
   "cell_type": "code",
   "execution_count": 19,
   "metadata": {},
   "outputs": [],
   "source": [
    "torch.cuda.empty_cache()"
   ]
  },
  {
   "cell_type": "code",
   "execution_count": null,
   "metadata": {},
   "outputs": [],
   "source": []
  },
  {
   "cell_type": "code",
   "execution_count": null,
   "metadata": {},
   "outputs": [],
   "source": []
  }
 ],
 "metadata": {
  "kernelspec": {
   "display_name": "Python 3",
   "language": "python",
   "name": "python3"
  },
  "language_info": {
   "codemirror_mode": {
    "name": "ipython",
    "version": 3
   },
   "file_extension": ".py",
   "mimetype": "text/x-python",
   "name": "python",
   "nbconvert_exporter": "python",
   "pygments_lexer": "ipython3",
   "version": "3.6.3"
  }
 },
 "nbformat": 4,
 "nbformat_minor": 2
}
